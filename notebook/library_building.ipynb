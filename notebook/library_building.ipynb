{
 "cells": [
  {
   "cell_type": "code",
   "execution_count": 1,
   "metadata": {},
   "outputs": [],
   "source": [
    "%load_ext autoreload\n",
    "%autoreload 2\n",
    "import sys\n",
    "sys.path.insert(0, '..')\n",
    "import pandas as pd\n",
    "import numpy as np\n",
    "from libgen.file_io import *\n",
    "from libgen.search_utils import *\n",
    "from libgen.Tylos import *\n",
    "from libgen.spectra_plotter import EIC\n",
    "from libgen.constant import *\n",
    "from libgen.spectra_plotter import *\n",
    "from libgen.libgen_core import *\n",
    "from libgen.chem_utils import *\n",
    "from libgen.spectral_operations import *"
   ]
  },
  {
   "cell_type": "code",
   "execution_count": 4,
   "metadata": {},
   "outputs": [
    {
     "name": "stdout",
     "output_type": "stream",
     "text": [
      "making all matches...\n"
     ]
    },
    {
     "name": "stderr",
     "output_type": "stream",
     "text": [
      "100%|██████████| 7/7 [00:11<00:00,  1.64s/it]"
     ]
    },
    {
     "name": "stdout",
     "output_type": "stream",
     "text": [
      "there are 384 features found to matches with precursor mz at 0.005 error\n",
      "denoising...\n"
     ]
    },
    {
     "name": "stderr",
     "output_type": "stream",
     "text": [
      "\n",
      "100%|██████████| 384/384 [00:02<00:00, 161.22it/s]\n"
     ]
    },
    {
     "name": "stdout",
     "output_type": "stream",
     "text": [
      "Finished 1 libraries\n",
      "making all matches...\n"
     ]
    },
    {
     "name": "stderr",
     "output_type": "stream",
     "text": [
      "100%|██████████| 7/7 [00:11<00:00,  1.64s/it]"
     ]
    },
    {
     "name": "stdout",
     "output_type": "stream",
     "text": [
      "there are 375 features found to matches with precursor mz at 0.005 error\n",
      "denoising...\n"
     ]
    },
    {
     "name": "stderr",
     "output_type": "stream",
     "text": [
      "\n",
      "100%|██████████| 375/375 [00:02<00:00, 151.40it/s]\n"
     ]
    },
    {
     "name": "stdout",
     "output_type": "stream",
     "text": [
      "Finished 2 libraries\n",
      "making all matches...\n"
     ]
    },
    {
     "name": "stderr",
     "output_type": "stream",
     "text": [
      "100%|██████████| 7/7 [00:07<00:00,  1.11s/it]"
     ]
    },
    {
     "name": "stdout",
     "output_type": "stream",
     "text": [
      "there are 59 features found to matches with precursor mz at 0.005 error\n",
      "denoising...\n"
     ]
    },
    {
     "name": "stderr",
     "output_type": "stream",
     "text": [
      "\n",
      "100%|██████████| 59/59 [00:00<00:00, 69984.14it/s]\n"
     ]
    },
    {
     "name": "stdout",
     "output_type": "stream",
     "text": [
      "Finished 3 libraries\n",
      "making all matches...\n"
     ]
    },
    {
     "name": "stderr",
     "output_type": "stream",
     "text": [
      "100%|██████████| 7/7 [00:07<00:00,  1.10s/it]"
     ]
    },
    {
     "name": "stdout",
     "output_type": "stream",
     "text": [
      "there are 56 features found to matches with precursor mz at 0.005 error\n",
      "denoising...\n"
     ]
    },
    {
     "name": "stderr",
     "output_type": "stream",
     "text": [
      "\n",
      "100%|██████████| 56/56 [00:00<00:00, 34465.30it/s]\n"
     ]
    },
    {
     "name": "stdout",
     "output_type": "stream",
     "text": [
      "Finished 4 libraries\n"
     ]
    }
   ],
   "source": [
    "# this is 10x\n",
    "from libgen.constant import adduct_pos, adduct_neg\n",
    "# conc = '10x'\n",
    "conc = '100x'\n",
    "mzml_dir = f'/Volumes/New Volume/drugLib/04032025_{conc}dil_mzml'\n",
    "\n",
    "# conc = '10x'\n",
    "master_base = '/Users/fanzhoukong/Documents/GitHub/Libgen_data/DrugLib/'\n",
    "i = 0\n",
    "for polarity in ['pos','neg']:\n",
    "    for tail in ['01', '02']:\n",
    "        std_list = pd.read_csv(os.path.join(master_base, conc, polarity, f'std_{tail}_cleaned.csv'))\n",
    "        if polarity == 'pos':\n",
    "            adduct = adduct_pos\n",
    "        else:\n",
    "            adduct = adduct_neg\n",
    "        library = libgen_pipeline(std_list, mzml_dir, adduct)\n",
    "        write_to_msp(library, os.path.join(master_base, conc, polarity, f'lib_{tail}.msp'))\n",
    "        i += 1\n",
    "        print(f'Finished {i} libraries')\n",
    "    #     break\n",
    "    # break"
   ]
  },
  {
   "cell_type": "code",
   "execution_count": 297,
   "metadata": {},
   "outputs": [
    {
     "data": {
      "image/png": "[encoded data removed]",
      "text/plain": [
       "<Figure size 1000x600 with 1 Axes>"
      ]
     },
     "metadata": {},
     "output_type": "display_data"
    }
   ],
   "source": [
    "mix = 'posNIH_Drug_group2_10Xdil_01'\n",
    "mass = 332.095106\n",
    "ms1, ms2 = read_mzml(os.path.join(mzml_dir, mix))\n",
    "mass_sorted, intensity_sorted, index_sorted, rt_list = build_index(ms1)\n",
    "intensity_list = flash_eic(mass, mass_sorted, intensity_sorted, index_sorted)\n",
    "EIC(rt_list, intensity_list)"
   ]
  },
  {
   "cell_type": "code",
   "execution_count": 281,
   "metadata": {},
   "outputs": [],
   "source": [
    "mass_tolerance = 0.005\n",
    "peaks_all, raw_apex_idx_all,reci_snrs_all = detect_all_peaks(intensity_list, n_neighbor=2, intensity_threshold=30000)\n",
    "idx_left, idx_right = mass_sorted.searchsorted([mass-mass_tolerance, mass+mass_tolerance])"
   ]
  },
  {
   "cell_type": "code",
   "execution_count": 282,
   "metadata": {},
   "outputs": [],
   "source": [
    "for p, r, a in zip(peaks_all, reci_snrs_all, raw_apex_idx_all):\n",
    "    pmz_statistics = guess_pmz(mass, mass_sorted,\n",
    "                                    intensity_sorted, index_sorted, idx_left, idx_right, int(a), mass_error= mass_tolerance)"
   ]
  },
  {
   "cell_type": "code",
   "execution_count": 283,
   "metadata": {},
   "outputs": [
    {
     "data": {
      "text/plain": [
       "(np.float64(347.2215703759262),\n",
       " np.float64(980170.0625),\n",
       " np.float64(347.22137451171875))"
      ]
     },
     "execution_count": 283,
     "metadata": {},
     "output_type": "execute_result"
    }
   ],
   "source": [
    "pmz_statistics"
   ]
  }
 ],
 "metadata": {
  "kernelspec": {
   "display_name": "py_torch",
   "language": "python",
   "name": "py_torch"
  },
  "language_info": {
   "codemirror_mode": {
    "name": "ipython",
    "version": 3
   },
   "file_extension": ".py",
   "mimetype": "text/x-python",
   "name": "python",
   "nbconvert_exporter": "python",
   "pygments_lexer": "ipython3",
   "version": "3.12.0"
  }
 },
 "nbformat": 4,
 "nbformat_minor": 2
}
