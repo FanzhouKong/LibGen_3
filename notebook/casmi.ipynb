{
 "cells": [
  {
   "cell_type": "code",
   "execution_count": 1,
   "metadata": {},
   "outputs": [],
   "source": [
    "%load_ext autoreload\n",
    "%autoreload 2\n",
    "import sys\n",
    "sys.path.insert(0, '..')\n",
    "from libgen.file_io import *\n",
    "from libgen.search_utils import *\n",
    "from libgen.spectral_operations import *\n",
    "from tqdm import tqdm\n",
    "import os"
   ]
  },
  {
   "cell_type": "code",
   "execution_count": 2,
   "metadata": {},
   "outputs": [],
   "source": [
    "def extract_peaks(pos_dir, neg_dir, std_list):\n",
    "    msms = []\n",
    "    std_list_msms = std_list.copy()\n",
    "    for index, row in tqdm(std_list.iterrows(), total = len(std_list)):\n",
    "        if 'neg' in row['File']:\n",
    "            working_dir = neg_dir\n",
    "            polarity = 'Negative'\n",
    "        elif 'pos' in row['File']:\n",
    "            working_dir = pos_dir\n",
    "            polarity = 'Positive'\n",
    "        ms1, ms2 = read_mzml(row['File'], working_dir)\n",
    "\n",
    "        spectra_temp = quick_search_values(ms2, 'precursor_mz', row['Precursor m/z (Da)']-0.005, row['Precursor m/z (Da)']+0.005)\n",
    "        spectra_temp = quick_search_values(spectra_temp, 'rt', row['RT [min]']-5/60, row['RT [min]']+5/60)\n",
    "        if len(spectra_temp) >0:\n",
    "\n",
    "            \n",
    "            spectra_temp['adjusted_intensity'] = spectra_temp['precursor_intensity']*spectra_temp['peak_purity']/100\n",
    "            std_list_msms.loc[index, 'precursor_mz'] = spectra_temp.iloc[0]['precursor_mz']\n",
    "            spectra_temp.sort_values(by = 'adjusted_intensity', ascending = False, inplace = True)\n",
    "            std_list_msms.loc[index, 'precursor_intensity'] = spectra_temp.iloc[0]['precursor_intensity']\n",
    "            \n",
    "            std_list_msms.loc[index, 'IONMODE'] = polarity\n",
    "            msms.append(spectra_temp.iloc[0]['peaks'])\n",
    "            std_list_msms.loc[index, 'found']=True\n",
    "        else:\n",
    "            std_list_msms.loc[index, 'found']=False\n",
    "            msms.append(np.nan)\n",
    "        # break\n",
    "    std_list_msms['peaks']=msms\n",
    "    std_list_msms.rename(columns = {'Precursor m/z (Da)':'reference_precursor_mz'}, inplace = True)\n",
    "    return std_list_msms\n",
    "def write_to_msp_sirius(df, file_path, msms_col = 'peaks', normalize = False):\n",
    "    if normalize == True:\n",
    "        df[msms_col] = [normalize_spectrum(peak) for peak in df[msms_col]]\n",
    "    with open(file_path, 'w') as f:\n",
    "        for _, row in df.iterrows():\n",
    "            # Write the name of the spectrum\n",
    "            f.write(f\"NAME: Compound_{row['Compound Number']}\\n\")\n",
    "            f.write(f\"PRECURSORMZ: {row['precursor_mz']:.4f}\\n\")\n",
    "            f.write(f\"RETENTIONTIME: {row['RT [min]']}\\n\")\n",
    "            f.write(f\"IONMODE: {row['IONMODE']}\\n\")\n",
    "            f.write(f\"SPECTRUMTYPE: {row['Priority/Bonus']}\\n\")\n",
    "            f.write(f\"COMMENTS: Precursor intensity is {row['precursor_intensity']}\\n\")\n",
    "            \n",
    "            # Write the peaks (assuming each peak is a tuple of (m/z, intensity))\n",
    "            f.write(f\"Num Peaks: {len(row[msms_col])}\\n\")\n",
    "            for mz, intensity in row[msms_col]:\n",
    "                f.write(f\"{mz} {intensity}\\n\")\n",
    "            \n",
    "            # Separate spectra by an empty line\n",
    "            f.write(\"\\n\")"
   ]
  },
  {
   "cell_type": "markdown",
   "metadata": {},
   "source": [
    "# lets try priority first shall we?"
   ]
  },
  {
   "cell_type": "code",
   "execution_count": 3,
   "metadata": {},
   "outputs": [],
   "source": [
    "pos_dir = '/Users/fanzhoukong/Documents/GitHub/Libgen_data/casmi/1_Priority - Challenges 1-250/pos'\n",
    "neg_dir = '/Users/fanzhoukong/Documents/GitHub/Libgen_data/casmi/1_Priority - Challenges 1-250/neg'\n",
    "std_list = pd.read_csv('/Users/fanzhoukong/Documents/GitHub/Libgen_data/casmi/MetSoc2022_CASMI_Workshop_Challenges_Priority_1-250_040522_Share.xlsx - SHARE_PRIORITY.csv')"
   ]
  },
  {
   "cell_type": "code",
   "execution_count": 4,
   "metadata": {},
   "outputs": [
    {
     "name": "stderr",
     "output_type": "stream",
     "text": [
      "100%|██████████| 250/250 [22:52<00:00,  5.49s/it]\n"
     ]
    }
   ],
   "source": [
    "std_list_msms_pri = extract_peaks(pos_dir, neg_dir, std_list)"
   ]
  },
  {
   "cell_type": "code",
   "execution_count": 30,
   "metadata": {},
   "outputs": [],
   "source": [
    "write_to_msp_sirius(std_list_msms, '/Users/fanzhoukong/Documents/GitHub/Libgen_data/casmi/1_Priority - Challenges 1-250/priority.msp', normalize = False)"
   ]
  },
  {
   "cell_type": "markdown",
   "metadata": {},
   "source": [
    "# lets then do bonus"
   ]
  },
  {
   "cell_type": "code",
   "execution_count": 10,
   "metadata": {},
   "outputs": [],
   "source": [
    "master_dir = '/Users/fanzhoukong/Documents/GitHub/Libgen_data/casmi/2_Bonus - Challenges 251-500'\n",
    "pos_dir = os.path.join(master_dir, 'pos')\n",
    "neg_dir = os.path.join(master_dir, 'neg')\n",
    "std_list_bouns = pd.read_csv('/Users/fanzhoukong/Documents/GitHub/Libgen_data/casmi/MetSoc2022_CASMI_Workshop_Challenges_Bonus_251-500_040522_Share.xlsx - SHARE_BONUS.csv')"
   ]
  },
  {
   "cell_type": "code",
   "execution_count": 11,
   "metadata": {},
   "outputs": [
    {
     "data": {
      "text/html": [
       "<div>\n",
       "<style scoped>\n",
       "    .dataframe tbody tr th:only-of-type {\n",
       "        vertical-align: middle;\n",
       "    }\n",
       "\n",
       "    .dataframe tbody tr th {\n",
       "        vertical-align: top;\n",
       "    }\n",
       "\n",
       "    .dataframe thead th {\n",
       "        text-align: right;\n",
       "    }\n",
       "</style>\n",
       "<table border=\"1\" class=\"dataframe\">\n",
       "  <thead>\n",
       "    <tr style=\"text-align: right;\">\n",
       "      <th></th>\n",
       "      <th>Compound Number</th>\n",
       "      <th>File</th>\n",
       "      <th>RT [min]</th>\n",
       "      <th>Precursor m/z (Da)</th>\n",
       "      <th>Priority/Bonus</th>\n",
       "    </tr>\n",
       "  </thead>\n",
       "  <tbody>\n",
       "    <tr>\n",
       "      <th>0</th>\n",
       "      <td>251</td>\n",
       "      <td>A_M22_negPFP_03</td>\n",
       "      <td>1.03</td>\n",
       "      <td>209.0819</td>\n",
       "      <td>Bonus</td>\n",
       "    </tr>\n",
       "    <tr>\n",
       "      <th>1</th>\n",
       "      <td>252</td>\n",
       "      <td>A_M15_negPFP_03</td>\n",
       "      <td>0.79</td>\n",
       "      <td>359.1348</td>\n",
       "      <td>Bonus</td>\n",
       "    </tr>\n",
       "    <tr>\n",
       "      <th>2</th>\n",
       "      <td>253</td>\n",
       "      <td>A_M12_posPFP_01</td>\n",
       "      <td>3.22</td>\n",
       "      <td>455.1489</td>\n",
       "      <td>Bonus</td>\n",
       "    </tr>\n",
       "    <tr>\n",
       "      <th>3</th>\n",
       "      <td>254</td>\n",
       "      <td>A_M15_posPFP_01</td>\n",
       "      <td>3.69</td>\n",
       "      <td>329.2323</td>\n",
       "      <td>Bonus</td>\n",
       "    </tr>\n",
       "    <tr>\n",
       "      <th>4</th>\n",
       "      <td>255</td>\n",
       "      <td>A_M1_posPFP_01</td>\n",
       "      <td>1.72</td>\n",
       "      <td>265.1071</td>\n",
       "      <td>Bonus</td>\n",
       "    </tr>\n",
       "    <tr>\n",
       "      <th>...</th>\n",
       "      <td>...</td>\n",
       "      <td>...</td>\n",
       "      <td>...</td>\n",
       "      <td>...</td>\n",
       "      <td>...</td>\n",
       "    </tr>\n",
       "    <tr>\n",
       "      <th>245</th>\n",
       "      <td>496</td>\n",
       "      <td>A_M15_negPFP_03</td>\n",
       "      <td>2.56</td>\n",
       "      <td>279.0874</td>\n",
       "      <td>Bonus</td>\n",
       "    </tr>\n",
       "    <tr>\n",
       "      <th>246</th>\n",
       "      <td>497</td>\n",
       "      <td>A_M19_negPFP_03</td>\n",
       "      <td>4.42</td>\n",
       "      <td>971.4857</td>\n",
       "      <td>Bonus</td>\n",
       "    </tr>\n",
       "    <tr>\n",
       "      <th>247</th>\n",
       "      <td>498</td>\n",
       "      <td>A_M13_negPFP_03</td>\n",
       "      <td>5.65</td>\n",
       "      <td>345.0616</td>\n",
       "      <td>Bonus</td>\n",
       "    </tr>\n",
       "    <tr>\n",
       "      <th>248</th>\n",
       "      <td>499</td>\n",
       "      <td>A_M2_negPFP_03</td>\n",
       "      <td>3.41</td>\n",
       "      <td>717.1461</td>\n",
       "      <td>Bonus</td>\n",
       "    </tr>\n",
       "    <tr>\n",
       "      <th>249</th>\n",
       "      <td>500</td>\n",
       "      <td>E_M17_posPFP_01</td>\n",
       "      <td>4.09</td>\n",
       "      <td>243.1016</td>\n",
       "      <td>Bonus</td>\n",
       "    </tr>\n",
       "  </tbody>\n",
       "</table>\n",
       "<p>250 rows × 5 columns</p>\n",
       "</div>"
      ],
      "text/plain": [
       "     Compound Number             File  RT [min]  Precursor m/z (Da)   \n",
       "0                251  A_M22_negPFP_03      1.03            209.0819  \\\n",
       "1                252  A_M15_negPFP_03      0.79            359.1348   \n",
       "2                253  A_M12_posPFP_01      3.22            455.1489   \n",
       "3                254  A_M15_posPFP_01      3.69            329.2323   \n",
       "4                255   A_M1_posPFP_01      1.72            265.1071   \n",
       "..               ...              ...       ...                 ...   \n",
       "245              496  A_M15_negPFP_03      2.56            279.0874   \n",
       "246              497  A_M19_negPFP_03      4.42            971.4857   \n",
       "247              498  A_M13_negPFP_03      5.65            345.0616   \n",
       "248              499   A_M2_negPFP_03      3.41            717.1461   \n",
       "249              500  E_M17_posPFP_01      4.09            243.1016   \n",
       "\n",
       "    Priority/Bonus  \n",
       "0            Bonus  \n",
       "1            Bonus  \n",
       "2            Bonus  \n",
       "3            Bonus  \n",
       "4            Bonus  \n",
       "..             ...  \n",
       "245          Bonus  \n",
       "246          Bonus  \n",
       "247          Bonus  \n",
       "248          Bonus  \n",
       "249          Bonus  \n",
       "\n",
       "[250 rows x 5 columns]"
      ]
     },
     "execution_count": 11,
     "metadata": {},
     "output_type": "execute_result"
    }
   ],
   "source": [
    "std_list_bouns"
   ]
  },
  {
   "cell_type": "code",
   "execution_count": 6,
   "metadata": {},
   "outputs": [],
   "source": [
    "from libgen.spectra_plotter import *"
   ]
  },
  {
   "cell_type": "code",
   "execution_count": 7,
   "metadata": {},
   "outputs": [
    {
     "name": "stderr",
     "output_type": "stream",
     "text": [
      "  0%|          | 0/250 [00:00<?, ?it/s]"
     ]
    },
    {
     "name": "stderr",
     "output_type": "stream",
     "text": [
      "100%|██████████| 250/250 [07:05<00:00,  1.70s/it]\n"
     ]
    }
   ],
   "source": [
    "std_list_msms_bon = extract_peaks(pos_dir, neg_dir, std_list)"
   ]
  },
  {
   "cell_type": "code",
   "execution_count": 13,
   "metadata": {},
   "outputs": [],
   "source": [
    "std_list_msms_all = pd.concat([std_list_msms_pri, std_list_msms_bon], axis = 0)"
   ]
  },
  {
   "cell_type": "code",
   "execution_count": 17,
   "metadata": {},
   "outputs": [],
   "source": [
    "std_list_msms_all=std_list_msms_all[std_list_msms_all['found']==True]"
   ]
  },
  {
   "cell_type": "code",
   "execution_count": 18,
   "metadata": {},
   "outputs": [
    {
     "name": "stdout",
     "output_type": "stream",
     "text": [
      "['peaks']\n"
     ]
    },
    {
     "name": "stderr",
     "output_type": "stream",
     "text": [
      "100%|██████████| 499/499 [00:00<00:00, 10764.31it/s]\n"
     ]
    }
   ],
   "source": [
    "save_df(std_list_msms_all, '/Users/fanzhoukong/Documents/GitHub/Libgen_data/casmi/all_msms.csv')"
   ]
  },
  {
   "cell_type": "code",
   "execution_count": 21,
   "metadata": {},
   "outputs": [],
   "source": [
    "chemcial_abundant = [0.1,0.2]\n",
    "electric_abundant = [2,10]\n",
    "formula_db = pd.read_csv('/Users/fanzhoukong/Documents/GitHub/Libgen_data/formula_db/formulaDB_sorted.csv')"
   ]
  },
  {
   "cell_type": "code",
   "execution_count": 30,
   "metadata": {},
   "outputs": [],
   "source": [
    "from libgen.noise import generate_chemical_noise, generate_noise, add_noise"
   ]
  },
  {
   "cell_type": "code",
   "execution_count": 55,
   "metadata": {},
   "outputs": [],
   "source": [
    "chemical_lamda = 50\n",
    "electric_lamda = 5\n",
    "def mixing_noise(data_raw, chemical_noise_level, electronic_noise_level):\n",
    "    data = data_raw.copy()\n",
    "    msms_cont_all = []\n",
    "    for index, row in tqdm(data.iterrows(),total = len(data)):\n",
    "        if row['IONMODE']=='negative':\n",
    "            polarity = '-'\n",
    "        else:\n",
    "            polarity = '+'\n",
    "        noise_chemical = generate_chemical_noise(row['reference_precursor_mz'],chemical_lamda, polarity, formula_db=formula_db, n = np.int64(np.ceil(chemical_noise_level*len(row['peaks']))))\n",
    "        noise_electric = generate_noise(row['reference_precursor_mz'], electric_lamda, n = np.int64(np.ceil(electronic_noise_level*len(row['peaks']))))\n",
    "        msms_cont = add_noise(row['peaks'], noise_chemical)\n",
    "        # print(len(row['peaks']))\n",
    "        \n",
    "        msms_cont = add_noise(msms_cont, noise_electric)\n",
    "        msms_cont_all.append(msms_cont)\n",
    "    data['peaks_cont'] = msms_cont_all\n",
    "    return data\n",
    "        "
   ]
  },
  {
   "cell_type": "code",
   "execution_count": 56,
   "metadata": {},
   "outputs": [
    {
     "name": "stderr",
     "output_type": "stream",
     "text": [
      "100%|██████████| 499/499 [00:09<00:00, 54.22it/s]\n",
      "100%|██████████| 499/499 [00:09<00:00, 51.80it/s]\n"
     ]
    }
   ],
   "source": [
    "data_cont_mid = mixing_noise(std_list_msms_all,0.2, 2)\n",
    "data_cont_low = mixing_noise(std_list_msms_all,0.1, 1)"
   ]
  },
  {
   "cell_type": "code",
   "execution_count": 57,
   "metadata": {},
   "outputs": [
    {
     "name": "stdout",
     "output_type": "stream",
     "text": [
      "['peaks', 'peaks_cont']\n"
     ]
    },
    {
     "name": "stderr",
     "output_type": "stream",
     "text": [
      "100%|██████████| 499/499 [00:00<00:00, 13075.76it/s]\n",
      "100%|██████████| 499/499 [00:00<00:00, 5063.48it/s]\n"
     ]
    },
    {
     "name": "stdout",
     "output_type": "stream",
     "text": [
      "['peaks', 'peaks_cont']\n"
     ]
    },
    {
     "name": "stderr",
     "output_type": "stream",
     "text": [
      "100%|██████████| 499/499 [00:00<00:00, 7576.24it/s]\n",
      "100%|██████████| 499/499 [00:00<00:00, 7367.05it/s]\n"
     ]
    }
   ],
   "source": [
    "save_df(data_cont_mid, '/Users/fanzhoukong/Documents/GitHub/Libgen_data/casmi/all_msms_mid_cont.csv')\n",
    "save_df(data_cont_low, '/Users/fanzhoukong/Documents/GitHub/Libgen_data/casmi/all_msms_low_cont.csv')"
   ]
  },
  {
   "cell_type": "code",
   "execution_count": 58,
   "metadata": {},
   "outputs": [],
   "source": [
    "write_to_msp_sirius(std_list_msms_all, '/Users/fanzhoukong/Documents/GitHub/Libgen_data/casmi/all.msp', normalize = False)\n",
    "write_to_msp_sirius(data_cont_mid, '/Users/fanzhoukong/Documents/GitHub/Libgen_data/casmi/all_mid_cont.msp', normalize = False, msms_col='peaks_cont')\n",
    "write_to_msp_sirius(data_cont_low, '/Users/fanzhoukong/Documents/GitHub/Libgen_data/casmi/all_low_cont.msp', normalize = False, msms_col='peaks_cont')"
   ]
  },
  {
   "cell_type": "markdown",
   "metadata": {},
   "source": []
  }
 ],
 "metadata": {
  "kernelspec": {
   "display_name": "alphapept_env",
   "language": "python",
   "name": "python3"
  },
  "language_info": {
   "codemirror_mode": {
    "name": "ipython",
    "version": 3
   },
   "file_extension": ".py",
   "mimetype": "text/x-python",
   "name": "python",
   "nbconvert_exporter": "python",
   "pygments_lexer": "ipython3",
   "version": "3.8.13"
  }
 },
 "nbformat": 4,
 "nbformat_minor": 2
}
